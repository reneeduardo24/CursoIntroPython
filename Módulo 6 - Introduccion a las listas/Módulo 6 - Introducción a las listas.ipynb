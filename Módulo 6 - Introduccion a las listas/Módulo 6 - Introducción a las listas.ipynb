{
 "cells": [
  {
   "cell_type": "code",
   "execution_count": 18,
   "metadata": {},
   "outputs": [
    {
     "name": "stdout",
     "output_type": "stream",
     "text": [
      "Nombre del planeta?\n",
      "El planeta que solicitaste es el 3 planeta del sistema solar\n",
      "Los planetas ['Mercurio', 'Venus'] son mas cercanos al que ingresaste.\n",
      "Los planetas ['Marte', 'Jupiter', 'Saturno', 'Urano', 'Nepturno', 'Pluton'] son mas lejanos al que ingresaste.\n"
     ]
    }
   ],
   "source": [
    "planets = ['Mercurio', 'Venus', 'Tierra', 'Marte', 'Jupiter', 'Saturno', 'Urano', 'Nepturno', 'Pluton']\n",
    "\n",
    "\n",
    "print('Nombre del planeta?')\n",
    "planetaSolicitado = input()\n",
    "\n",
    "print(f\"\"\"El planeta que solicitaste es el {planets.index(planetaSolicitado) + 1} planeta del sistema solar\"\"\")\n",
    "numeroPlaneta = planets.index(planetaSolicitado)\n",
    "print(f\"\"\"Los planetas {planets[0:numeroPlaneta]} son mas cercanos al que ingresaste.\"\"\")\n",
    "print(f\"\"\"Los planetas {planets[(numeroPlaneta + 1):len(planets)]} son mas lejanos al que ingresaste.\"\"\")\n"
   ]
  }
 ],
 "metadata": {
  "interpreter": {
   "hash": "e66bf808c8b25927291b128b003cdb7efc0ecfb872792065744089d56c5c30c7"
  },
  "kernelspec": {
   "display_name": "Python 3.10.2 64-bit",
   "language": "python",
   "name": "python3"
  },
  "language_info": {
   "codemirror_mode": {
    "name": "ipython",
    "version": 3
   },
   "file_extension": ".py",
   "mimetype": "text/x-python",
   "name": "python",
   "nbconvert_exporter": "python",
   "pygments_lexer": "ipython3",
   "version": "3.10.2"
  },
  "orig_nbformat": 4
 },
 "nbformat": 4,
 "nbformat_minor": 2
}
