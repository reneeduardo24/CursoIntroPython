{
 "cells": [
  {
   "cell_type": "code",
   "execution_count": 56,
   "metadata": {},
   "outputs": [
    {
     "name": "stdout",
     "output_type": "stream",
     "text": [
      " \n",
      "on average, the moon moves 4celsiusm away from the earth every year\n",
      " the highest daylight temperature of the moon is 127 celsius\n"
     ]
    }
   ],
   "source": [
    "text = \"\"\"Interesting facts about the Moon. The Moon is Earth's only satellite. There are several interesting facts about the Moon and how it affects life here on Earth. \n",
    "On average, the Moon moves 4cm away from the Earth every year. This yearly drift is not significant enough to cause immediate effects on Earth. The highest daylight temperature of the Moon is 127 C.\"\"\"\n",
    "palabrasClaves = [\"average\", \"temperature\", \"distance\"]\n",
    "parts = text.lower().split('.')\n",
    "\n",
    "for item in parts:\n",
    "    for palabrasClave in palabrasClaves:\n",
    "        if palabrasClave in item:\n",
    "            print(item.replace('c', 'celsius'))\n",
    "\n"
   ]
  },
  {
   "cell_type": "code",
   "execution_count": 66,
   "metadata": {},
   "outputs": [
    {
     "name": "stdout",
     "output_type": "stream",
     "text": [
      "Datos de la gravedad sobre: Ganímedes \n",
      "--------------------------------------------------------------------------------\n",
      "Nombre del planeta: Marte\n",
      "Gravedad en Marte: 0.00143 m/s2\n",
      "\n"
     ]
    }
   ],
   "source": [
    "name = \"Ganímedes\"\n",
    "gravity = 0.00143 # in kms\n",
    "planet = \"Marte\"\n",
    "titulo = \"Gravity Facts about {planet}\"\n",
    "\n",
    "plantilla = f\"\"\"{'-'*80}\n",
    "Nombre del planeta {planet}\n",
    "Gravedad en {name}: {gravity * 1000} \n",
    "{gravity * 1000}\"\"\"\n",
    "\n",
    "\n",
    "template = f\"\"\"{titulo.title()}{plantilla}\"\"\"\n",
    "\n",
    "newTemplate = f\"\"\"Datos de la gravedad sobre: {name} \n",
    "{'-'*80}\n",
    "Nombre del planeta: {planet}\n",
    "Gravedad en {planet}: {gravity} m/s2\n",
    "\"\"\"\n",
    "\n",
    "print(newTemplate.format(name=name, planet=planet, gravity=gravity*1000))\n",
    "\n"
   ]
  }
 ],
 "metadata": {
  "interpreter": {
   "hash": "e66bf808c8b25927291b128b003cdb7efc0ecfb872792065744089d56c5c30c7"
  },
  "kernelspec": {
   "display_name": "Python 3.10.2 64-bit",
   "language": "python",
   "name": "python3"
  },
  "language_info": {
   "codemirror_mode": {
    "name": "ipython",
    "version": 3
   },
   "file_extension": ".py",
   "mimetype": "text/x-python",
   "name": "python",
   "nbconvert_exporter": "python",
   "pygments_lexer": "ipython3",
   "version": "3.10.2"
  },
  "orig_nbformat": 4
 },
 "nbformat": 4,
 "nbformat_minor": 2
}
