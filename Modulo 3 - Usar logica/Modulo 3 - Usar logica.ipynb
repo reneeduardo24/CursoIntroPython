{
 "cells": [
  {
   "cell_type": "code",
   "execution_count": 18,
   "metadata": {},
   "outputs": [
    {
     "name": "stdout",
     "output_type": "stream",
     "text": [
      "Un asteroide se acerca, mide 25 metros y viaja a una velocidad de 45 km/s\n"
     ]
    }
   ],
   "source": [
    "velocidadasteroide = 45;\n",
    "tamanoAsteroide = 25;\n",
    "\n",
    "if tamanoAsteroide >= 25 and velocidadasteroide >=25:\n",
    "    print(\"Un asteroide se acerca, mide \" +str(tamanoAsteroide)+ \" metros y viaja a una velocidad de \"+str(velocidadasteroide) +\" km/s\")\n",
    "elif(velocidadasteroide >= 20):\n",
    "    print(\"Mira al cielo!\")\n",
    "else:\n",
    "    print(\"Todo normal!\")\n",
    "\n"
   ]
  }
 ],
 "metadata": {
  "interpreter": {
   "hash": "e66bf808c8b25927291b128b003cdb7efc0ecfb872792065744089d56c5c30c7"
  },
  "kernelspec": {
   "display_name": "Python 3.10.2 64-bit",
   "language": "python",
   "name": "python3"
  },
  "language_info": {
   "codemirror_mode": {
    "name": "ipython",
    "version": 3
   },
   "file_extension": ".py",
   "mimetype": "text/x-python",
   "name": "python",
   "nbconvert_exporter": "python",
   "pygments_lexer": "ipython3",
   "version": "3.10.2"
  },
  "orig_nbformat": 4
 },
 "nbformat": 4,
 "nbformat_minor": 2
}
