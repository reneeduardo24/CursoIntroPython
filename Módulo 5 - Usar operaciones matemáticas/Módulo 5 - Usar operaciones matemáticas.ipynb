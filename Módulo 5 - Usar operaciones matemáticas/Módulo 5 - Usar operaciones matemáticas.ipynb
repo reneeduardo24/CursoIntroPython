{
 "cells": [
  {
   "cell_type": "code",
   "execution_count": 28,
   "metadata": {},
   "outputs": [
    {
     "name": "stdout",
     "output_type": "stream",
     "text": [
      "628949330\n",
      "390810995\n"
     ]
    }
   ],
   "source": [
    "from math import ceil, floor\n",
    "\n",
    "tierra = 149597870\n",
    "jupiter = 778547200\n",
    "\n",
    "distanciaDosPlanetas = jupiter - tierra\n",
    "\n",
    "print(distanciaDosPlanetas)\n",
    "print(int(distanciaDosPlanetas // 1.609344))"
   ]
  },
  {
   "cell_type": "code",
   "execution_count": 5,
   "metadata": {},
   "outputs": [
    {
     "name": "stdout",
     "output_type": "stream",
     "text": [
      "¿Planeta 1?\n",
      "¿Planeta 2?\n",
      "536230.2737520129\n"
     ]
    }
   ],
   "source": [
    "print(\"¿Planeta 1?\")\n",
    "planeta1 = input()\n",
    "\n",
    "print(\"¿Planeta 2?\")\n",
    "planeta2 = input()\n",
    "\n",
    "planeta1Entero = int(planeta1)\n",
    "planeta2Entero = int(planeta2)\n",
    "\n",
    "valorAbs = (planeta1Entero - planeta2Entero)\n",
    "print(abs(valorAbs / 0.621))\n",
    "\n"
   ]
  }
 ],
 "metadata": {
  "interpreter": {
   "hash": "e66bf808c8b25927291b128b003cdb7efc0ecfb872792065744089d56c5c30c7"
  },
  "kernelspec": {
   "display_name": "Python 3.10.2 64-bit",
   "language": "python",
   "name": "python3"
  },
  "language_info": {
   "codemirror_mode": {
    "name": "ipython",
    "version": 3
   },
   "file_extension": ".py",
   "mimetype": "text/x-python",
   "name": "python",
   "nbconvert_exporter": "python",
   "pygments_lexer": "ipython3",
   "version": "3.10.2"
  },
  "orig_nbformat": 4
 },
 "nbformat": 4,
 "nbformat_minor": 2
}
