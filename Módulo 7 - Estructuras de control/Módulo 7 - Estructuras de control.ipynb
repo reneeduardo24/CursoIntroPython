{
 "cells": [
  {
   "cell_type": "code",
   "execution_count": 8,
   "metadata": {},
   "outputs": [
    {
     "name": "stdout",
     "output_type": "stream",
     "text": [
      "El planeta  1 es:  tierra\n",
      "El planeta  2 es:  marte\n",
      "El planeta  3 es:  asdasd\n",
      "El planeta  4 es:  aosdkoas\n"
     ]
    }
   ],
   "source": [
    "newPlanet = ''\n",
    "planets = []\n",
    "\n",
    "newPlanet = input('Ingresa un valor, o escriba done para finalizar.')\n",
    "\n",
    "while newPlanet.lower() != 'done':\n",
    "    if newPlanet:\n",
    "        planets.append(newPlanet)\n",
    "        newPlanet = input('Ingresa un nuevo valor, o escriba done para finalizar.')\n",
    "\n",
    "for planet in planets:\n",
    "    print('El planeta',planets.index(planet)+1,'es:', planet)\n",
    "\n",
    "\n"
   ]
  }
 ],
 "metadata": {
  "interpreter": {
   "hash": "e66bf808c8b25927291b128b003cdb7efc0ecfb872792065744089d56c5c30c7"
  },
  "kernelspec": {
   "display_name": "Python 3.10.2 64-bit",
   "language": "python",
   "name": "python3"
  },
  "language_info": {
   "codemirror_mode": {
    "name": "ipython",
    "version": 3
   },
   "file_extension": ".py",
   "mimetype": "text/x-python",
   "name": "python",
   "nbconvert_exporter": "python",
   "pygments_lexer": "ipython3",
   "version": "3.10.2"
  },
  "orig_nbformat": 4
 },
 "nbformat": 4,
 "nbformat_minor": 2
}
