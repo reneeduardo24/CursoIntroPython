{
 "cells": [
  {
   "cell_type": "code",
   "execution_count": 20,
   "metadata": {},
   "outputs": [
    {
     "name": "stdout",
     "output_type": "stream",
     "text": [
      "Total: 78.33333333333333, tanque principal:80, tanque externo: 70, tanque de hydrogeno: 85\n",
      "Hora de prelanzamiento: 3, tiempo de vuelo: 12, destino: LA, tanque externo: 234 y tanque interno: 124\n",
      "\n",
      "    Mission a Moon\n",
      "    Total de tiempo: 76 minutos\n",
      "    Total de gasolina: 500000\n",
      "    \n"
     ]
    }
   ],
   "source": [
    "def tanquesCombustible(tq1, tq2, tq3):\n",
    "    return(f'Total: {funcionPromedio([tq1, tq2, tq3])}, tanque principal:{tq1}, tanque externo: {tq2}, tanque de hydrogeno: {tq3}')\n",
    "\n",
    "print(tanquesCombustible(80, 70, 85))\n",
    "\n",
    "def funcionPromedio(valor):\n",
    "    total = sum(valor)\n",
    "    numeroValor = len(valor)\n",
    "    return total / numeroValor\n",
    "\n",
    "funcionPromedio([80, 70, 85])\n",
    "\n",
    "#ejercicio 2\n",
    "def informeMision(hora, tiempoVuelo, destino, tanqueExterno, tanqueInterno):\n",
    "    return(f\"\"\"Hora de prelanzamiento: {hora}, tiempo de vuelo: {tiempoVuelo}, destino: {destino}, tanque externo: {tanqueExterno} y tanque interno: {tanqueInterno}\"\"\")\n",
    "\n",
    "print(informeMision(3,12,'LA',234,124))\n",
    "\n",
    "def reporteMision(destino, *minutos, **reservasGas):\n",
    "    return f\"\"\"\n",
    "    Mission a {destino}\n",
    "    Total de tiempo: {sum(minutos)} minutos\n",
    "    Total de gasolina: {sum(reservasGas.values())}\n",
    "    \"\"\"\n",
    "\n",
    "print(reporteMision(\"Moon\", 10, 15, 51, interno=300000, externo=200000))"
   ]
  }
 ],
 "metadata": {
  "interpreter": {
   "hash": "e66bf808c8b25927291b128b003cdb7efc0ecfb872792065744089d56c5c30c7"
  },
  "kernelspec": {
   "display_name": "Python 3.10.2 64-bit",
   "language": "python",
   "name": "python3"
  },
  "language_info": {
   "codemirror_mode": {
    "name": "ipython",
    "version": 3
   },
   "file_extension": ".py",
   "mimetype": "text/x-python",
   "name": "python",
   "nbconvert_exporter": "python",
   "pygments_lexer": "ipython3",
   "version": "3.10.2"
  },
  "orig_nbformat": 4
 },
 "nbformat": 4,
 "nbformat_minor": 2
}
